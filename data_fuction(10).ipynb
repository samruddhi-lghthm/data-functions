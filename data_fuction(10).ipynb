{
  "nbformat": 4,
  "nbformat_minor": 0,
  "metadata": {
    "colab": {
      "private_outputs": true,
      "provenance": []
    },
    "kernelspec": {
      "name": "python3",
      "display_name": "Python 3"
    },
    "language_info": {
      "name": "python"
    }
  },
  "cells": [
    {
      "cell_type": "code",
      "execution_count": null,
      "metadata": {
        "id": "_cT7hGKb_iTf"
      },
      "outputs": [],
      "source": [
        "10. What is the difference between `map()`, `reduce()`, and `filter()` functions in Python?\n",
        "\n",
        "'Map' applies a given function to each item of an iterable (like a list or set) and returns a list of the results.\n",
        "'Filter' constructs a list from elements of an iterable for which a function returns true.\n",
        "'Reduce' applies a rolling computation to sequential pairs of values in a list and returns a single result.\n",
        "\n",
        "Map, Filter and Reduce are functionalities in Functional programming languages like JavaScript.\n",
        "'Map' is used to apply a function on every item in an array and returns the new array.\n",
        "'Filter' is used to create a new array from an existing one, containing only those items that satisfy a condition specified in a function.\n",
        "'Reduce' is used to apply\n",
        "a function against an accumulator and each element in the array, with the aim of reducing the array to a single output value.\n",
        "What is the difference between map filter and reduce?\n",
        "\n",
        "Map, filter and reduce are functions in programming used to manipulate arrays or lists.\n",
        "Map applies a given function to each item of an array and returns a new array. Filter creates a new array with all elements that pass a test\n",
        "implemented by the provided function.\n",
        "Reduce applies a function against an accumulator and each element in the array (from left to right) to reduce it to a single output value.\n",
        "What is filter map and reduce in python?\n",
        "\n",
        "Filter, map, and reduce are built-in functions in Python. The filter function extracts elements from an iterable (like lists)\n",
        "for which a function returns true. The map function applies a function to all items in an input list.\n",
        "The reduce function applies a function of two arguments cumulatively to the items of an iterable to reduce the iterable to a single output.\n",
        "\n",
        "# Example of using map, filter, and reduce in Python\n",
        "data = [1, 2, 3, 4, 5]\n",
        "\n",
        "# Using the map to apply a function to each element\n",
        "# Lambda function returns the square of x\n",
        "result1 = map(lambda x: x * 2, data)  # Result: [2, 4, 6, 8, 10]\n",
        "\n",
        "# Using the filter to filter elements based on a condition\n",
        "# Lambda function returns True for an even number\n",
        "result2 = filter(lambda x: x % 2 == 0, data)  # Result: [2, 4]\n",
        "\n",
        "# Using reduce to aggregate elements\n",
        "# Lambda function returns product of x and y\n",
        "from functools import reduce\n",
        "result3 = reduce(lambda x, y: x * y, data)  # Result: 120"
      ]
    }
  ]
}
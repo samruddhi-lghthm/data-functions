{
  "nbformat": 4,
  "nbformat_minor": 0,
  "metadata": {
    "colab": {
      "private_outputs": true,
      "provenance": []
    },
    "kernelspec": {
      "name": "python3",
      "display_name": "Python 3"
    },
    "language_info": {
      "name": "python"
    }
  },
  "cells": [
    {
      "cell_type": "markdown",
      "source": [],
      "metadata": {
        "id": "t7M_RJdTAUS9"
      }
    },
    {
      "cell_type": "code",
      "source": [
        "#1. What is the difference between a function and a method in Python?\n",
        "\n",
        "#In Python, methods and functions have similar purposes but differ in important ways.\n",
        "#Functions are independent blocks of code that can be called from anywhere, while methods are\n",
        "#tied to objects or classes and need an object or class instance to be invoked.\n",
        "\n",
        "#Functions promote code reusability, while methods offer behavior specific to objects.\n",
        "#Functions are called by name, while methods are accessed using dot notation. Understanding these distinctions is crucial for writing organized,\n",
        "#modular code in Python and harnessing the full power of methods and functions in various programming scenarios.\n",
        "\n",
        "#definition \tMethod definitions are always present inside a class.\n",
        "#             No class is needed to define a function.\n",
        "\n",
        "#Association\tAssociated with the class object.\n",
        "#             Not associated with any objects.\n",
        "\n",
        "#Call\t        It is called on an object.\n",
        "#             It is called by its name.\n",
        "\n",
        "#Dependency\t  It depends on the class they belong to.\n",
        "#             It doesn’t depend on any class, i.e., it is an identical entity.\n",
        "\n",
        "#self\t        It requires the self as its first argument.\n",
        "#             It doesn’t require any self-argument.\n",
        "\n",
        "#operation\tIt operates on the data of the object it associates with.\n",
        "#           It operates on the data that you pass to them as an argument.\n",
        "\n",
        "# Function example\n",
        "def greet_function(name):\n",
        "    return \"Hello, {}!\".format(name)\n",
        "\n",
        "# Method example\n",
        "class Greeter:\n",
        "    def __init__(self, name):\n",
        "        self.name = name\n",
        "\n",
        "    def greet_method(self):\n",
        "        return \"Hello, {}!\".format(self.name)\n",
        "\n",
        "# Using the function\n",
        "print(greet_function(\"Alice\"))  # Output: Hello, Alice!\n",
        "\n",
        "# Using the method\n",
        "greeter_object = Greeter(\"Bob\")\n",
        "print(greeter_object.greet_method())  # Output: Hello, Bob!\n",
        "\n"
      ],
      "metadata": {
        "id": "dtlko0TzAUq5"
      },
      "execution_count": null,
      "outputs": []
    },
    {
      "cell_type": "markdown",
      "source": [
        "# New Section"
      ],
      "metadata": {
        "id": "3H_agocsHNGz"
      }
    },
    {
      "cell_type": "markdown",
      "source": [],
      "metadata": {
        "id": "K8u_9Bc4BkLX"
      }
    },
    {
      "cell_type": "markdown",
      "source": [],
      "metadata": {
        "id": "z83cJNJyBj92"
      }
    }
  ]
}
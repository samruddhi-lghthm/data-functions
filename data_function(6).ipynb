{
  "nbformat": 4,
  "nbformat_minor": 0,
  "metadata": {
    "colab": {
      "private_outputs": true,
      "provenance": []
    },
    "kernelspec": {
      "name": "python3",
      "display_name": "Python 3"
    },
    "language_info": {
      "name": "python"
    }
  },
  "cells": [
    {
      "cell_type": "code",
      "execution_count": null,
      "metadata": {
        "id": "Qqxjy78sQtXd"
      },
      "outputs": [],
      "source": [
        "#6. Explain the concept of generators in Python and how they are defined.\n",
        "\n",
        "#A Python generator function allows you to declare a function that behaves like an iterator, providing a faster and easier way to create iterators.\n",
        "#They can be used on an abstract container of data to turn it into an iterable object like lists, dictionaries and strings.\n",
        "Ex. def get_odds_generator():\n",
        "    n=1\n",
        "\n",
        "    n+=2\n",
        "    yield n\n",
        "\n",
        "    n+=2\n",
        "    yield n\n",
        "\n",
        "    n+=2\n",
        "    yield n\n",
        "\n",
        "numbers=get_odds_generator()\n",
        "print(next(numbers))\n",
        "print(next(numbers))\n",
        "print(next(numbers))\n",
        "# Output\n",
        "3\n",
        "5\n",
        "7\n",
        "\n",
        "#Now, let’s try to implement a loop to make this Python generator return odd numbers until a certain max number.\n",
        "\n",
        "def get_odds_generator(max):\n",
        "    n=1\n",
        "\n",
        "    while n<=max:\n",
        "        yield n\n",
        "        n+=2\n",
        "\n",
        "numbers=get_odds_generator(3)\n",
        "print(next(numbers))\n",
        "print(next(numbers))\n",
        "print(next(numbers))\n",
        "\n",
        "#As you can see from the output, one and three were generated and after that,\n",
        "#a StopIteration exception has been raised. The loop condition (n<=max) is False since max is three and n is five,\n",
        "#therefore the StopIteration exception was raised.\n",
        "\n",
        "#When comparing this code with our get_odds class, you can see that in our generator, we never explicitly defined\n",
        "#the __iter__ method, the __next__ method or raised a StopIteration exception. These are handled implicitly by generators,\n",
        "#making programming much easier and simpler to understand."
      ]
    }
  ]
}
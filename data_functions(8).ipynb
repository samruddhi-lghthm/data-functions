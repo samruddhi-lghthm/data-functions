{
  "nbformat": 4,
  "nbformat_minor": 0,
  "metadata": {
    "colab": {
      "private_outputs": true,
      "provenance": []
    },
    "kernelspec": {
      "name": "python3",
      "display_name": "Python 3"
    },
    "language_info": {
      "name": "python"
    }
  },
  "cells": [
    {
      "cell_type": "code",
      "execution_count": null,
      "metadata": {
        "id": "nQe8_qPpiCZr"
      },
      "outputs": [],
      "source": [
        "#8. What is a lambda function in Python and when is it typically used?\n",
        "\n",
        "#In Python, a lambda function is a short-term, anonymous function that's useful when you need a\n",
        "#single-line function or you only want to use the function once:\n",
        "#We use a lambda function to evaluate only one short expression (ideally, a single-line) and only once,\n",
        "#meaning that we aren't going to apply this function later. Usually, we pass a lambda function as an argument\n",
        "##to a higher-order function (the one that takes in other functions as arguments), such as Python built-in functions like filter(), map(), or reduce().\n",
        "\n",
        "#How a Lambda Function in Python Works\n",
        "#Let's look at a simple example of a lambda function:\n",
        "\n",
        "#lambda x: x + 1\n",
        "<function __main__.<lambda>(x)>\n",
        "The lambda function above takes a single argument, increments it by 1, and returns the result.\n",
        "It's a simpler version of the following normal function with the def and return keywords:\n",
        "\n",
        "def increment_by_one(x):\n",
        "    return x + 1\n",
        "\n",
        "    For now, however, our lambda function lambda x: x + 1 only creates a function object\n",
        "    nd doesn't return anything. We expected this: we didn't provide any value (an argument) to its parameter x.\n",
        "    Let's assign a variable first, pass it to the lambda function, and see what we get this time:\n",
        "\n",
        "a = 2\n",
        "print(lambda x: a + 1)\n",
        "<function <lambda> at 0x00000250CB0A5820>\n",
        "Instead of returning 3, as we might expect, our lambda function returned the function\n",
        "object itself and its memory location. Indeed, this isn't the right way to call a lambda function.\n",
        "To pass an argument to a lambda function, execute it, and return the result, we should use the following syntax:\n",
        "\n",
        "(lambda x: x + 1)(2)\n",
        "3\n",
        "Note that while the parameter of our lambda function isn't surrounded with parentheses,\n",
        "when we call it, we add parentheses around the entire construction of the lambda function and around the argument we passed to it.\n",
        "\n",
        "Another thing to notice in the code above is that with a lambda function, we can execute the function\n",
        "immediately after its creation and receive the result. This is the so-called immediately invoked function execution (or IIFE).\n",
        "\n",
        "We can create a lambda function with multiple parameters. In this case,\n",
        "we separate the parameters in the function definition with a comma. When we execute such a lambda function, we list the\n",
        "corresponding arguments in the same order and separate them with a comma, too:\n",
        "\n",
        "(lambda x, y, z: x + y + z)(3, 8, 1)\n",
        "12\n",
        "It's also possible to use a lambda function to perform conditional operations. Below is a lambda analog for a simple if-else function:\n",
        "\n",
        "print((lambda x: x if(x > 10) else 10)(5))\n",
        "print((lambda x: x if(x > 10) else 10)(12))\n",
        "10\n",
        "12\n",
        "If multiple conditions are present (if-elif-...-else), we have to nest them:\n",
        "\n",
        "(lambda x: x * 10 if x > 10 else (x * 5 if x < 5 else x))(11)\n",
        "110"
      ]
    }
  ]
}
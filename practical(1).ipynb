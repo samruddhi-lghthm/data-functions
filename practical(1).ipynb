{
  "nbformat": 4,
  "nbformat_minor": 0,
  "metadata": {
    "colab": {
      "private_outputs": true,
      "provenance": []
    },
    "kernelspec": {
      "name": "python3",
      "display_name": "Python 3"
    },
    "language_info": {
      "name": "python"
    }
  },
  "cells": [
    {
      "cell_type": "code",
      "execution_count": null,
      "metadata": {
        "id": "wKr_CvasEYQz"
      },
      "outputs": [],
      "source": [
        "1. Write a Python function that takes a list of numbers as input and returns the sum of all even numbers in\n",
        "the list.\n"
      ]
    },
    {
      "cell_type": "code",
      "source": [
        "def even_sum(numbers):\n",
        "    sum=0\n",
        "    for n in numbers:\n",
        "        if n%2==0:\n",
        "           sum=sum+n\n",
        "    return sum"
      ],
      "metadata": {
        "id": "Z2qyGghZKzd3"
      },
      "execution_count": null,
      "outputs": []
    },
    {
      "cell_type": "code",
      "source": [
        "even_sum([1,2,3,4,5,6])"
      ],
      "metadata": {
        "id": "vf0XMZmDK5NF"
      },
      "execution_count": null,
      "outputs": []
    },
    {
      "cell_type": "code",
      "source": [],
      "metadata": {
        "id": "cqDSAQrDMoIg"
      },
      "execution_count": null,
      "outputs": []
    }
  ]
}
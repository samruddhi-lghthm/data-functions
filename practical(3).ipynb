{
  "nbformat": 4,
  "nbformat_minor": 0,
  "metadata": {
    "colab": {
      "private_outputs": true,
      "provenance": []
    },
    "kernelspec": {
      "name": "python3",
      "display_name": "Python 3"
    },
    "language_info": {
      "name": "python"
    }
  },
  "cells": [
    {
      "cell_type": "code",
      "execution_count": null,
      "metadata": {
        "id": "873QBGDbRdXu"
      },
      "outputs": [],
      "source": [
        "3. Implement a Python function that takes a list of integers and returns\n",
        "a new list containing the squares of\n",
        "each number."
      ]
    },
    {
      "cell_type": "markdown",
      "source": [],
      "metadata": {
        "id": "6aPB6c8LRouk"
      }
    },
    {
      "cell_type": "code",
      "source": [
        "def even_sum(numbers):\n",
        "    sum=0\n",
        "    for n in numbers:\n",
        "        if n%2==0:\n",
        "            sum=sum+n\n",
        "    return sum\n"
      ],
      "metadata": {
        "id": "HE1mcbvTRpT3"
      },
      "execution_count": null,
      "outputs": []
    },
    {
      "cell_type": "code",
      "source": [
        "even_sum([1,2,3,4,5,6])"
      ],
      "metadata": {
        "id": "Fx2XnF7vUgEy"
      },
      "execution_count": null,
      "outputs": []
    },
    {
      "cell_type": "code",
      "source": [],
      "metadata": {
        "id": "dwO1i5-RU8us"
      },
      "execution_count": null,
      "outputs": []
    },
    {
      "cell_type": "code",
      "source": [],
      "metadata": {
        "id": "ru_zchlRVkQ_"
      },
      "execution_count": null,
      "outputs": []
    }
  ]
}
{
  "nbformat": 4,
  "nbformat_minor": 0,
  "metadata": {
    "colab": {
      "private_outputs": true,
      "provenance": []
    },
    "kernelspec": {
      "name": "python3",
      "display_name": "Python 3"
    },
    "language_info": {
      "name": "python"
    }
  },
  "cells": [
    {
      "cell_type": "code",
      "execution_count": null,
      "metadata": {
        "id": "csaHfgaDX6AY"
      },
      "outputs": [],
      "source": [
        "#4. Write a Python function that checks if a given number is prime or not from 1 to 200.\n"
      ]
    },
    {
      "cell_type": "markdown",
      "source": [],
      "metadata": {
        "id": "EFCWayJnPto9"
      }
    },
    {
      "cell_type": "code",
      "source": [
        "  def is_prime(num):\n",
        "    if num < 2:\n",
        "        return False\n",
        "        for i in range(2, int(number**0.5)+1):\n",
        "          if number %i == 0:\n",
        "                      return False\n",
        "                      return True\n",
        "\n",
        "    #check if a number is prime within the range of 1 to 200\n",
        "\n",
        "    given_number = 47\n",
        "    if is_prime(given_number):\n",
        "      print(f\"{given_number}is a prime number.\")\n",
        "    else:\n",
        "        print(f\"{given_number} is not a prime number.\")\n"
      ],
      "metadata": {
        "id": "sD_VUFieYHDR",
        "collapsed": true
      },
      "execution_count": null,
      "outputs": []
    },
    {
      "cell_type": "code",
      "source": [
        "47 is not a prime number."
      ],
      "metadata": {
        "id": "iVgkuzJdWNfP"
      },
      "execution_count": null,
      "outputs": []
    },
    {
      "cell_type": "code",
      "source": [],
      "metadata": {
        "id": "VO5oLhXOPyH6"
      },
      "execution_count": null,
      "outputs": []
    },
    {
      "cell_type": "code",
      "source": [
        "#5. Create an iterator class in Python that generates the Fibonacci sequence up to a specified number of terms.\n"
      ],
      "metadata": {
        "id": "oCXRIqiPPl8G"
      },
      "execution_count": null,
      "outputs": []
    },
    {
      "cell_type": "code",
      "source": [
        " class FibonacciIterator:\n",
        "    def __init__(self , max_terms):\n",
        "        self.max_terms = max_terms\n",
        "        self.a = 0\n",
        "        self.b = 1\n",
        "        self.count = 0\n",
        "\n",
        "        def __iter__(self):\n",
        "            return self\n",
        "\n",
        "        def __next__(sellf):\n",
        "            if self.count >= self.max_terms:\n",
        "                raise StopIteration\n",
        "            current_term = self.a\n",
        "            self.a, self.b = self.b, self.a + self.b\n",
        "            self.count += 1\n",
        "            return current_term\n",
        "\n",
        "\n",
        "  # Example usage\n",
        "  max__terms = 10      # Specify the number of Fibonacci terms you want\n",
        "  fib__iterator = FibonacciIterator(max_terms)\n",
        "  for term in fib_interator:\n",
        "    print(term)\n"
      ],
      "metadata": {
        "collapsed": true,
        "id": "ppY_D2o_PhZl"
      },
      "execution_count": null,
      "outputs": []
    },
    {
      "cell_type": "code",
      "source": [],
      "metadata": {
        "id": "f5yYlMK3VK09"
      },
      "execution_count": null,
      "outputs": []
    },
    {
      "cell_type": "code",
      "source": [],
      "metadata": {
        "id": "RdnEHNr7Vjff"
      },
      "execution_count": null,
      "outputs": []
    }
  ]
}